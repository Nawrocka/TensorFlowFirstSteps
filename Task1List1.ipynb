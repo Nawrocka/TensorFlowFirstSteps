{
  "nbformat": 4,
  "nbformat_minor": 0,
  "metadata": {
    "colab": {
      "name": "Untitled2.ipynb",
      "provenance": [],
      "collapsed_sections": []
    },
    "kernelspec": {
      "name": "python3",
      "display_name": "Python 3"
    }
  },
  "cells": [
    {
      "cell_type": "code",
      "metadata": {
        "colab": {
          "base_uri": "https://localhost:8080/"
        },
        "id": "U0nBfmJEFY-m",
        "outputId": "79ed97cf-3c36-49d5-e2a0-695691d85a17"
      },
      "source": [
        "# wczytanie potrzebnych bibliotek\r\n",
        "import tensorflow as tf\r\n",
        " \r\n",
        "#wczytanie danych \r\n",
        "mnist = tf.keras.datasets.mnist\r\n",
        "(X_train, y_train), (X_val, y_val) = mnist.load_data()\r\n",
        " \r\n",
        "print(f'Zbiór uczący: {X_train.shape}, zbiór walidacyjny: {X_val.shape}')"
      ],
      "execution_count": null,
      "outputs": [
        {
          "output_type": "stream",
          "text": [
            "Zbiór uczący: (60000, 28, 28), zbiór walidacyjny: (10000, 28, 28)\n"
          ],
          "name": "stdout"
        }
      ]
    },
    {
      "cell_type": "code",
      "metadata": {
        "colab": {
          "base_uri": "https://localhost:8080/",
          "height": 417
        },
        "id": "LUNKebpPFtQC",
        "outputId": "3d762494-6f23-4f0a-9aea-c6a64a00fc5c"
      },
      "source": [
        "import matplotlib.pyplot as plt\r\n",
        " \r\n",
        "# wyświetlenie pierwszego przykladowego obrazu z zaciagnietych danych\r\n",
        "plt.figure(figsize=(7,7))\r\n",
        "plt.imshow(X_train[0], cmap=plt.cm.binary)\r\n",
        "plt.colorbar()\r\n",
        "plt.show()\r\n",
        "#każdemu pikselowi odpowiada konretny odcień szarości zakodowany w wartosciach 0-255 "
      ],
      "execution_count": null,
      "outputs": [
        {
          "output_type": "display_data",
          "data": {
            "image/png": "[encoded data removed]",
            "text/plain": [
              "<Figure size 504x504 with 2 Axes>"
            ]
          },
          "metadata": {
            "tags": [],
            "needs_background": "light"
          }
        }
      ]
    },
    {
      "cell_type": "code",
      "metadata": {
        "colab": {
          "base_uri": "https://localhost:8080/"
        },
        "id": "W1SS38izHbmv",
        "outputId": "15e04ee8-0f0c-4cf5-b2af-4cc2839be7f9"
      },
      "source": [
        "#wyświetlenie wszytskich danych o pobranym zbiorze\r\n",
        "import tensorflow_datasets as tfds\r\n",
        "ds, info = tfds.load('mnist', with_info=True)\r\n",
        "builder = tfds.builder('mnist')\r\n",
        "info = builder.info\r\n",
        "print(info)"
      ],
      "execution_count": null,
      "outputs": [
        {
          "output_type": "stream",
          "text": [
            "tfds.core.DatasetInfo(\n",
            "    name='mnist',\n",
            "    version=3.0.1,\n",
            "    description='The MNIST database of handwritten digits.',\n",
            "    homepage='http://yann.lecun.com/exdb/mnist/',\n",
            "    features=FeaturesDict({\n",
            "        'image': Image(shape=(28, 28, 1), dtype=tf.uint8),\n",
            "        'label': ClassLabel(shape=(), dtype=tf.int64, num_classes=10),\n",
            "    }),\n",
            "    total_num_examples=70000,\n",
            "    splits={\n",
            "        'test': 10000,\n",
            "        'train': 60000,\n",
            "    },\n",
            "    supervised_keys=('image', 'label'),\n",
            "    citation=\"\"\"@article{lecun2010mnist,\n",
            "      title={MNIST handwritten digit database},\n",
            "      author={LeCun, Yann and Cortes, Corinna and Burges, CJ},\n",
            "      journal={ATT Labs [Online]. Available: http://yann.lecun.com/exdb/mnist},\n",
            "      volume={2},\n",
            "      year={2010}\n",
            "    }\"\"\",\n",
            "    redistribution_info=,\n",
            ")\n",
            "\n"
          ],
          "name": "stdout"
        }
      ]
    },
    {
      "cell_type": "code",
      "metadata": {
        "colab": {
          "base_uri": "https://localhost:8080/"
        },
        "id": "44TrS436MYqN",
        "outputId": "8f9d6e2c-7436-4f54-afb2-23c3cd079659"
      },
      "source": [
        "#przygotowanie danych, normalizacja\r\n",
        "X_train = X_train.astype('float32') / 255.0\r\n",
        "X_val = X_val.astype('float32') / 255.0\r\n",
        "\r\n",
        "#kodowanie One Hot\r\n",
        "from tensorflow.keras.utils import to_categorical\r\n",
        " \r\n",
        "y_train = to_categorical(y_train)\r\n",
        "y_val = to_categorical(y_val)\r\n",
        "\r\n",
        "y_train[0]"
      ],
      "execution_count": null,
      "outputs": [
        {
          "output_type": "execute_result",
          "data": {
            "text/plain": [
              "array([0., 0., 0., 0., 0., 1., 0., 0., 0., 0.], dtype=float32)"
            ]
          },
          "metadata": {
            "tags": []
          },
          "execution_count": 27
        }
      ]
    },
    {
      "cell_type": "code",
      "metadata": {
        "id": "XmgkrZMWPSBE"
      },
      "source": [
        "#architektura sekwencyjna warstw wej., ukrytych i wyj.\r\n",
        "from tensorflow.keras.models import Sequential \r\n",
        "model = Sequential()\r\n",
        "\r\n",
        "#Splaszczamy 28x28 do 784x1\r\n",
        "from tensorflow.keras.layers import Flatten, add\r\n",
        "model.add(Flatten(input_shape=(28, 28)))\r\n",
        "\r\n",
        "#Zwraca wartość if x>0 lub zero\r\n",
        "from tensorflow.keras.layers import Dense \r\n",
        "model.add(Dense(128, activation='relu'))\r\n",
        "\r\n",
        "#wartwa wyj. 10 - bo tyle chcemy przewidziec klas, a softmax, bo jest to klasyfikacja wielowymiarowa\r\n",
        "model.add(Dense(10, activation = 'softmax'))"
      ],
      "execution_count": null,
      "outputs": []
    },
    {
      "cell_type": "code",
      "metadata": {
        "colab": {
          "base_uri": "https://localhost:8080/"
        },
        "id": "wo1XEWI9UCNB",
        "outputId": "c885c4fa-117c-4b4a-88d6-4b9673a789d5"
      },
      "source": [
        "#Kompilacja modelu\r\n",
        "\r\n",
        "model.compile(optimizer='adam',\r\n",
        "              loss='categorical_crossentropy',\r\n",
        "              metrics=['accuracy'])\r\n",
        "\r\n",
        "model.summary()"
      ],
      "execution_count": null,
      "outputs": [
        {
          "output_type": "stream",
          "text": [
            "Model: \"sequential\"\n",
            "_________________________________________________________________\n",
            "Layer (type)                 Output Shape              Param #   \n",
            "=================================================================\n",
            "flatten (Flatten)            (None, 784)               0         \n",
            "_________________________________________________________________\n",
            "dense (Dense)                (None, 128)               100480    \n",
            "_________________________________________________________________\n",
            "dense_1 (Dense)              (None, 10)                1290      \n",
            "=================================================================\n",
            "Total params: 101,770\n",
            "Trainable params: 101,770\n",
            "Non-trainable params: 0\n",
            "_________________________________________________________________\n"
          ],
          "name": "stdout"
        }
      ]
    },
    {
      "cell_type": "code",
      "metadata": {
        "colab": {
          "base_uri": "https://localhost:8080/"
        },
        "id": "Be-G6wJkW_Po",
        "outputId": "247d4d6c-4d4d-4a07-f933-a991764388e5"
      },
      "source": [
        "#Trenowanie modelu\r\n",
        "history = model.fit(X_train, \r\n",
        "                    y_train, \r\n",
        "                    epochs=10,\r\n",
        "                    verbose=1,\r\n",
        "                    batch_size = 256,\r\n",
        "                    validation_data = (X_val, y_val)\r\n",
        "                   )"
      ],
      "execution_count": null,
      "outputs": [
        {
          "output_type": "stream",
          "text": [
            "Epoch 1/10\n",
            "235/235 [==============================] - 2s 5ms/step - loss: 0.7726 - accuracy: 0.7952 - val_loss: 0.2259 - val_accuracy: 0.9378\n",
            "Epoch 2/10\n",
            "235/235 [==============================] - 1s 4ms/step - loss: 0.2076 - accuracy: 0.9427 - val_loss: 0.1640 - val_accuracy: 0.9540\n",
            "Epoch 3/10\n",
            "235/235 [==============================] - 1s 4ms/step - loss: 0.1495 - accuracy: 0.9586 - val_loss: 0.1289 - val_accuracy: 0.9630\n",
            "Epoch 4/10\n",
            "235/235 [==============================] - 1s 4ms/step - loss: 0.1114 - accuracy: 0.9690 - val_loss: 0.1145 - val_accuracy: 0.9666\n",
            "Epoch 5/10\n",
            "235/235 [==============================] - 1s 4ms/step - loss: 0.0961 - accuracy: 0.9726 - val_loss: 0.1050 - val_accuracy: 0.9701\n",
            "Epoch 6/10\n",
            "235/235 [==============================] - 1s 4ms/step - loss: 0.0824 - accuracy: 0.9767 - val_loss: 0.0933 - val_accuracy: 0.9725\n",
            "Epoch 7/10\n",
            "235/235 [==============================] - 1s 4ms/step - loss: 0.0686 - accuracy: 0.9811 - val_loss: 0.0898 - val_accuracy: 0.9723\n",
            "Epoch 8/10\n",
            "235/235 [==============================] - 1s 4ms/step - loss: 0.0624 - accuracy: 0.9832 - val_loss: 0.0823 - val_accuracy: 0.9764\n",
            "Epoch 9/10\n",
            "235/235 [==============================] - 1s 4ms/step - loss: 0.0506 - accuracy: 0.9867 - val_loss: 0.0794 - val_accuracy: 0.9764\n",
            "Epoch 10/10\n",
            "235/235 [==============================] - 1s 5ms/step - loss: 0.0469 - accuracy: 0.9876 - val_loss: 0.0791 - val_accuracy: 0.9764\n"
          ],
          "name": "stdout"
        }
      ]
    },
    {
      "cell_type": "code",
      "metadata": {
        "colab": {
          "base_uri": "https://localhost:8080/",
          "height": 283
        },
        "id": "LYzJcnlnXYut",
        "outputId": "7bd60b8c-9235-42c4-efe1-e5710769a4b5"
      },
      "source": [
        "#wizualizacja trenowania\r\n",
        "def draw_curves(history, key1='accuracy', ylim1=(0.8, 1.00), \r\n",
        "                key2='loss', ylim2=(0.0, 1.0)):\r\n",
        "    plt.figure(figsize=(12,4))\r\n",
        "     \r\n",
        "    plt.subplot(1, 2, 1)\r\n",
        "    plt.plot(history.history[key1], \"r--\")\r\n",
        "    plt.plot(history.history['val_' + key1], \"g--\")\r\n",
        "    plt.ylabel(key1)\r\n",
        "    plt.xlabel('Epoch')\r\n",
        "    plt.ylim(ylim1)\r\n",
        "    plt.legend(['train', 'test'], loc='best')\r\n",
        " \r\n",
        "    plt.subplot(1, 2, 2)\r\n",
        "    plt.plot(history.history[key2], \"r--\")\r\n",
        "    plt.plot(history.history['val_' + key2], \"g--\")\r\n",
        "    plt.ylabel(key2)\r\n",
        "    plt.xlabel('Epoch')\r\n",
        "    plt.ylim(ylim2)\r\n",
        "    plt.legend(['train', 'test'], loc='best')\r\n",
        "     \r\n",
        "    plt.show()\r\n",
        "     \r\n",
        "draw_curves(history, key1='accuracy', ylim1=(0.7, 1.0), \r\n",
        "            key2='loss', ylim2=(0.0, 0.8))"
      ],
      "execution_count": null,
      "outputs": [
        {
          "output_type": "display_data",
          "data": {
            "image/png": "[encoded data removed]",
            "text/plain": [
              "<Figure size 864x288 with 2 Axes>"
            ]
          },
          "metadata": {
            "tags": [],
            "needs_background": "light"
          }
        }
      ]
    },
    {
      "cell_type": "code",
      "metadata": {
        "colab": {
          "base_uri": "https://localhost:8080/"
        },
        "id": "q73KLVfab_vj",
        "outputId": "a6b62fa8-5f15-4303-e1f1-89784f2e2594"
      },
      "source": [
        "#Ocena modelu na danych testowych\r\n",
        "results = model.evaluate(X_val, y_val, batch_size=128)\r\n",
        "print(\"test loss, test acc:\", results)"
      ],
      "execution_count": null,
      "outputs": [
        {
          "output_type": "stream",
          "text": [
            "79/79 [==============================] - 0s 2ms/step - loss: 0.0791 - accuracy: 0.9764\n",
            "test loss, test acc: [0.07911305874586105, 0.9764000177383423]\n"
          ],
          "name": "stdout"
        }
      ]
    },
    {
      "cell_type": "code",
      "metadata": {
        "colab": {
          "base_uri": "https://localhost:8080/"
        },
        "id": "FbY_c_QKdJ3d",
        "outputId": "d74dbd3b-9ed1-4950-8c3f-4c469c93ec0a"
      },
      "source": [
        "\r\n",
        "#predykcja => prawdopodobieństwo wyniku na wyj. ostatniej warstwy\r\n",
        "#dla 3 próbek\r\n",
        "predictions = model.predict(X_val[:3])\r\n",
        "print(\"predictions shape:\", predictions.shape)"
      ],
      "execution_count": null,
      "outputs": [
        {
          "output_type": "stream",
          "text": [
            "predictions shape: (3, 10)\n"
          ],
          "name": "stdout"
        }
      ]
    }
  ]
}